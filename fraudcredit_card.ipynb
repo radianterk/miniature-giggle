{
  "nbformat": 4,
  "nbformat_minor": 0,
  "metadata": {
    "colab": {
      "provenance": [],
      "authorship_tag": "ABX9TyNO940uDwz7niv9Bbk+wNSC",
      "include_colab_link": true
    },
    "kernelspec": {
      "name": "python3",
      "display_name": "Python 3"
    },
    "language_info": {
      "name": "python"
    }
  },
  "cells": [
    {
      "cell_type": "markdown",
      "metadata": {
        "id": "view-in-github",
        "colab_type": "text"
      },
      "source": [
        "<a href=\"https://colab.research.google.com/github/radianterk/miniature-giggle/blob/main/fraudcredit_card.ipynb\" target=\"_parent\"><img src=\"https://colab.research.google.com/assets/colab-badge.svg\" alt=\"Open In Colab\"/></a>"
      ]
    },
    {
      "cell_type": "markdown",
      "source": [
        "IMPORTING THE LIBRARY"
      ],
      "metadata": {
        "id": "toI67F7BOhqU"
      }
    },
    {
      "cell_type": "code",
      "execution_count": null,
      "metadata": {
        "id": "cI615nehOc0Y"
      },
      "outputs": [],
      "source": [
        "import numpy as np\n",
        "import pandas as pd\n",
        "import matplotlib.pyplot as plt\n",
        "import seaborn as sns"
      ]
    },
    {
      "cell_type": "markdown",
      "source": [
        "LOADING THE DATASETS"
      ],
      "metadata": {
        "id": "CUjeTJpCQlMK"
      }
    },
    {
      "cell_type": "code",
      "source": [
        "data=pd.read_csv('creditcard.csv')"
      ],
      "metadata": {
        "id": "hFT48-XOQrwG"
      },
      "execution_count": null,
      "outputs": []
    },
    {
      "cell_type": "markdown",
      "source": [
        "UNDERSTANDING AND DESCRIBING THE DATA"
      ],
      "metadata": {
        "id": "hO-gDC3-Q4uW"
      }
    },
    {
      "cell_type": "code",
      "source": [
        "print(data.shape)\n",
        "print(data.head())\n",
        "data.describe()"
      ],
      "metadata": {
        "colab": {
          "base_uri": "https://localhost:8080/",
          "height": 748
        },
        "id": "iLnMNlcbRA9u",
        "outputId": "f18f6fa7-7538-4d3a-ad6f-a1785af81ad4"
      },
      "execution_count": null,
      "outputs": [
        {
          "output_type": "stream",
          "name": "stdout",
          "text": [
            "(15936, 31)\n",
            "   Time        V1        V2        V3        V4        V5        V6        V7  \\\n",
            "0     0 -1.359807 -0.072781  2.536347  1.378155 -0.338321  0.462388  0.239599   \n",
            "1     0  1.191857  0.266151  0.166480  0.448154  0.060018 -0.082361 -0.078803   \n",
            "2     1 -1.358354 -1.340163  1.773209  0.379780 -0.503198  1.800499  0.791461   \n",
            "3     1 -0.966272 -0.185226  1.792993 -0.863291 -0.010309  1.247203  0.237609   \n",
            "4     2 -1.158233  0.877737  1.548718  0.403034 -0.407193  0.095921  0.592941   \n",
            "\n",
            "         V8        V9  ...       V21       V22       V23       V24       V25  \\\n",
            "0  0.098698  0.363787  ... -0.018307  0.277838 -0.110474  0.066928  0.128539   \n",
            "1  0.085102 -0.255425  ... -0.225775 -0.638672  0.101288 -0.339846  0.167170   \n",
            "2  0.247676 -1.514654  ...  0.247998  0.771679  0.909412 -0.689281 -0.327642   \n",
            "3  0.377436 -1.387024  ... -0.108300  0.005274 -0.190321 -1.175575  0.647376   \n",
            "4 -0.270533  0.817739  ... -0.009431  0.798278 -0.137458  0.141267 -0.206010   \n",
            "\n",
            "        V26       V27       V28  Amount  Class  \n",
            "0 -0.189115  0.133558 -0.021053  149.62    0.0  \n",
            "1  0.125895 -0.008983  0.014724    2.69    0.0  \n",
            "2 -0.139097 -0.055353 -0.059752  378.66    0.0  \n",
            "3 -0.221929  0.062723  0.061458  123.50    0.0  \n",
            "4  0.502292  0.219422  0.215153   69.99    0.0  \n",
            "\n",
            "[5 rows x 31 columns]\n"
          ]
        },
        {
          "output_type": "execute_result",
          "data": {
            "text/plain": [
              "               Time            V1            V2            V3            V4  \\\n",
              "count  15936.000000  15936.000000  15936.000000  15936.000000  15936.000000   \n",
              "mean   12121.217871     -0.254293      0.277171      0.803852      0.301343   \n",
              "std     8982.283843      1.843083      1.491497      1.704252      1.491713   \n",
              "min        0.000000    -28.344757    -40.978852    -27.368650     -5.172595   \n",
              "25%     3633.500000     -0.970824     -0.286548      0.371671     -0.621215   \n",
              "50%    10980.000000     -0.318478      0.247437      0.941822      0.231366   \n",
              "75%    20621.500000      1.161949      0.884689      1.575960      1.180124   \n",
              "max    27371.000000      1.960497     14.601998      4.101716     11.927512   \n",
              "\n",
              "                 V5            V6            V7            V8            V9  \\\n",
              "count  15936.000000  15936.000000  15936.000000  15936.000000  15936.000000   \n",
              "mean      -0.130469      0.112551     -0.150434      0.000687      0.860838   \n",
              "std        1.382485      1.329406      1.321898      1.303509      1.253988   \n",
              "min      -32.092129    -23.496714    -26.548144    -23.632502     -7.175097   \n",
              "25%       -0.712525     -0.639011     -0.600811     -0.179179      0.067089   \n",
              "50%       -0.186241     -0.160812     -0.084696      0.017471      0.851878   \n",
              "75%        0.352221      0.501828      0.440006      0.266216      1.567643   \n",
              "max       34.099309     21.393069     34.303177     17.052566     10.392889   \n",
              "\n",
              "       ...           V21           V22           V23           V24  \\\n",
              "count  ...  15936.000000  15936.000000  15935.000000  15935.000000   \n",
              "mean   ...     -0.061754     -0.162257     -0.036524      0.011509   \n",
              "std    ...      0.855525      0.624614      0.543296      0.587200   \n",
              "min    ...    -11.468435     -8.593642    -26.751119     -2.512377   \n",
              "25%    ...     -0.268829     -0.559341     -0.173003     -0.336475   \n",
              "50%    ...     -0.127164     -0.126343     -0.044512      0.060331   \n",
              "75%    ...      0.027233      0.229727      0.072765      0.393416   \n",
              "max    ...     22.614889      4.534454     13.876221      3.695503   \n",
              "\n",
              "                V25           V26           V27           V28        Amount  \\\n",
              "count  15935.000000  15935.000000  15935.000000  15935.000000  15935.000000   \n",
              "mean       0.117477      0.037900      0.015402      0.006161     66.390222   \n",
              "std        0.436867      0.546881      0.401168      0.253739    189.355098   \n",
              "min       -7.495741     -1.338556     -8.567638     -3.575312      0.000000   \n",
              "25%       -0.140144     -0.355523     -0.073563     -0.013205      5.490000   \n",
              "50%        0.155636     -0.027574      0.001209      0.017630     15.950000   \n",
              "75%        0.393032      0.359173      0.100782      0.076575     53.890000   \n",
              "max        5.525093      3.517346      8.254376      4.860769   7712.430000   \n",
              "\n",
              "              Class  \n",
              "count  15935.000000  \n",
              "mean       0.004581  \n",
              "std        0.067531  \n",
              "min        0.000000  \n",
              "25%        0.000000  \n",
              "50%        0.000000  \n",
              "75%        0.000000  \n",
              "max        1.000000  \n",
              "\n",
              "[8 rows x 31 columns]"
            ],
            "text/html": [
              "\n",
              "  <div id=\"df-e6fa0a00-c4a5-48d6-b7b1-bf86b484fee5\" class=\"colab-df-container\">\n",
              "    <div>\n",
              "<style scoped>\n",
              "    .dataframe tbody tr th:only-of-type {\n",
              "        vertical-align: middle;\n",
              "    }\n",
              "\n",
              "    .dataframe tbody tr th {\n",
              "        vertical-align: top;\n",
              "    }\n",
              "\n",
              "    .dataframe thead th {\n",
              "        text-align: right;\n",
              "    }\n",
              "</style>\n",
              "<table border=\"1\" class=\"dataframe\">\n",
              "  <thead>\n",
              "    <tr style=\"text-align: right;\">\n",
              "      <th></th>\n",
              "      <th>Time</th>\n",
              "      <th>V1</th>\n",
              "      <th>V2</th>\n",
              "      <th>V3</th>\n",
              "      <th>V4</th>\n",
              "      <th>V5</th>\n",
              "      <th>V6</th>\n",
              "      <th>V7</th>\n",
              "      <th>V8</th>\n",
              "      <th>V9</th>\n",
              "      <th>...</th>\n",
              "      <th>V21</th>\n",
              "      <th>V22</th>\n",
              "      <th>V23</th>\n",
              "      <th>V24</th>\n",
              "      <th>V25</th>\n",
              "      <th>V26</th>\n",
              "      <th>V27</th>\n",
              "      <th>V28</th>\n",
              "      <th>Amount</th>\n",
              "      <th>Class</th>\n",
              "    </tr>\n",
              "  </thead>\n",
              "  <tbody>\n",
              "    <tr>\n",
              "      <th>count</th>\n",
              "      <td>15936.000000</td>\n",
              "      <td>15936.000000</td>\n",
              "      <td>15936.000000</td>\n",
              "      <td>15936.000000</td>\n",
              "      <td>15936.000000</td>\n",
              "      <td>15936.000000</td>\n",
              "      <td>15936.000000</td>\n",
              "      <td>15936.000000</td>\n",
              "      <td>15936.000000</td>\n",
              "      <td>15936.000000</td>\n",
              "      <td>...</td>\n",
              "      <td>15936.000000</td>\n",
              "      <td>15936.000000</td>\n",
              "      <td>15935.000000</td>\n",
              "      <td>15935.000000</td>\n",
              "      <td>15935.000000</td>\n",
              "      <td>15935.000000</td>\n",
              "      <td>15935.000000</td>\n",
              "      <td>15935.000000</td>\n",
              "      <td>15935.000000</td>\n",
              "      <td>15935.000000</td>\n",
              "    </tr>\n",
              "    <tr>\n",
              "      <th>mean</th>\n",
              "      <td>12121.217871</td>\n",
              "      <td>-0.254293</td>\n",
              "      <td>0.277171</td>\n",
              "      <td>0.803852</td>\n",
              "      <td>0.301343</td>\n",
              "      <td>-0.130469</td>\n",
              "      <td>0.112551</td>\n",
              "      <td>-0.150434</td>\n",
              "      <td>0.000687</td>\n",
              "      <td>0.860838</td>\n",
              "      <td>...</td>\n",
              "      <td>-0.061754</td>\n",
              "      <td>-0.162257</td>\n",
              "      <td>-0.036524</td>\n",
              "      <td>0.011509</td>\n",
              "      <td>0.117477</td>\n",
              "      <td>0.037900</td>\n",
              "      <td>0.015402</td>\n",
              "      <td>0.006161</td>\n",
              "      <td>66.390222</td>\n",
              "      <td>0.004581</td>\n",
              "    </tr>\n",
              "    <tr>\n",
              "      <th>std</th>\n",
              "      <td>8982.283843</td>\n",
              "      <td>1.843083</td>\n",
              "      <td>1.491497</td>\n",
              "      <td>1.704252</td>\n",
              "      <td>1.491713</td>\n",
              "      <td>1.382485</td>\n",
              "      <td>1.329406</td>\n",
              "      <td>1.321898</td>\n",
              "      <td>1.303509</td>\n",
              "      <td>1.253988</td>\n",
              "      <td>...</td>\n",
              "      <td>0.855525</td>\n",
              "      <td>0.624614</td>\n",
              "      <td>0.543296</td>\n",
              "      <td>0.587200</td>\n",
              "      <td>0.436867</td>\n",
              "      <td>0.546881</td>\n",
              "      <td>0.401168</td>\n",
              "      <td>0.253739</td>\n",
              "      <td>189.355098</td>\n",
              "      <td>0.067531</td>\n",
              "    </tr>\n",
              "    <tr>\n",
              "      <th>min</th>\n",
              "      <td>0.000000</td>\n",
              "      <td>-28.344757</td>\n",
              "      <td>-40.978852</td>\n",
              "      <td>-27.368650</td>\n",
              "      <td>-5.172595</td>\n",
              "      <td>-32.092129</td>\n",
              "      <td>-23.496714</td>\n",
              "      <td>-26.548144</td>\n",
              "      <td>-23.632502</td>\n",
              "      <td>-7.175097</td>\n",
              "      <td>...</td>\n",
              "      <td>-11.468435</td>\n",
              "      <td>-8.593642</td>\n",
              "      <td>-26.751119</td>\n",
              "      <td>-2.512377</td>\n",
              "      <td>-7.495741</td>\n",
              "      <td>-1.338556</td>\n",
              "      <td>-8.567638</td>\n",
              "      <td>-3.575312</td>\n",
              "      <td>0.000000</td>\n",
              "      <td>0.000000</td>\n",
              "    </tr>\n",
              "    <tr>\n",
              "      <th>25%</th>\n",
              "      <td>3633.500000</td>\n",
              "      <td>-0.970824</td>\n",
              "      <td>-0.286548</td>\n",
              "      <td>0.371671</td>\n",
              "      <td>-0.621215</td>\n",
              "      <td>-0.712525</td>\n",
              "      <td>-0.639011</td>\n",
              "      <td>-0.600811</td>\n",
              "      <td>-0.179179</td>\n",
              "      <td>0.067089</td>\n",
              "      <td>...</td>\n",
              "      <td>-0.268829</td>\n",
              "      <td>-0.559341</td>\n",
              "      <td>-0.173003</td>\n",
              "      <td>-0.336475</td>\n",
              "      <td>-0.140144</td>\n",
              "      <td>-0.355523</td>\n",
              "      <td>-0.073563</td>\n",
              "      <td>-0.013205</td>\n",
              "      <td>5.490000</td>\n",
              "      <td>0.000000</td>\n",
              "    </tr>\n",
              "    <tr>\n",
              "      <th>50%</th>\n",
              "      <td>10980.000000</td>\n",
              "      <td>-0.318478</td>\n",
              "      <td>0.247437</td>\n",
              "      <td>0.941822</td>\n",
              "      <td>0.231366</td>\n",
              "      <td>-0.186241</td>\n",
              "      <td>-0.160812</td>\n",
              "      <td>-0.084696</td>\n",
              "      <td>0.017471</td>\n",
              "      <td>0.851878</td>\n",
              "      <td>...</td>\n",
              "      <td>-0.127164</td>\n",
              "      <td>-0.126343</td>\n",
              "      <td>-0.044512</td>\n",
              "      <td>0.060331</td>\n",
              "      <td>0.155636</td>\n",
              "      <td>-0.027574</td>\n",
              "      <td>0.001209</td>\n",
              "      <td>0.017630</td>\n",
              "      <td>15.950000</td>\n",
              "      <td>0.000000</td>\n",
              "    </tr>\n",
              "    <tr>\n",
              "      <th>75%</th>\n",
              "      <td>20621.500000</td>\n",
              "      <td>1.161949</td>\n",
              "      <td>0.884689</td>\n",
              "      <td>1.575960</td>\n",
              "      <td>1.180124</td>\n",
              "      <td>0.352221</td>\n",
              "      <td>0.501828</td>\n",
              "      <td>0.440006</td>\n",
              "      <td>0.266216</td>\n",
              "      <td>1.567643</td>\n",
              "      <td>...</td>\n",
              "      <td>0.027233</td>\n",
              "      <td>0.229727</td>\n",
              "      <td>0.072765</td>\n",
              "      <td>0.393416</td>\n",
              "      <td>0.393032</td>\n",
              "      <td>0.359173</td>\n",
              "      <td>0.100782</td>\n",
              "      <td>0.076575</td>\n",
              "      <td>53.890000</td>\n",
              "      <td>0.000000</td>\n",
              "    </tr>\n",
              "    <tr>\n",
              "      <th>max</th>\n",
              "      <td>27371.000000</td>\n",
              "      <td>1.960497</td>\n",
              "      <td>14.601998</td>\n",
              "      <td>4.101716</td>\n",
              "      <td>11.927512</td>\n",
              "      <td>34.099309</td>\n",
              "      <td>21.393069</td>\n",
              "      <td>34.303177</td>\n",
              "      <td>17.052566</td>\n",
              "      <td>10.392889</td>\n",
              "      <td>...</td>\n",
              "      <td>22.614889</td>\n",
              "      <td>4.534454</td>\n",
              "      <td>13.876221</td>\n",
              "      <td>3.695503</td>\n",
              "      <td>5.525093</td>\n",
              "      <td>3.517346</td>\n",
              "      <td>8.254376</td>\n",
              "      <td>4.860769</td>\n",
              "      <td>7712.430000</td>\n",
              "      <td>1.000000</td>\n",
              "    </tr>\n",
              "  </tbody>\n",
              "</table>\n",
              "<p>8 rows × 31 columns</p>\n",
              "</div>\n",
              "    <div class=\"colab-df-buttons\">\n",
              "\n",
              "  <div class=\"colab-df-container\">\n",
              "    <button class=\"colab-df-convert\" onclick=\"convertToInteractive('df-e6fa0a00-c4a5-48d6-b7b1-bf86b484fee5')\"\n",
              "            title=\"Convert this dataframe to an interactive table.\"\n",
              "            style=\"display:none;\">\n",
              "\n",
              "  <svg xmlns=\"http://www.w3.org/2000/svg\" height=\"24px\" viewBox=\"0 -960 960 960\">\n",
              "    <path d=\"M120-120v-720h720v720H120Zm60-500h600v-160H180v160Zm220 220h160v-160H400v160Zm0 220h160v-160H400v160ZM180-400h160v-160H180v160Zm440 0h160v-160H620v160ZM180-180h160v-160H180v160Zm440 0h160v-160H620v160Z\"/>\n",
              "  </svg>\n",
              "    </button>\n",
              "\n",
              "  <style>\n",
              "    .colab-df-container {\n",
              "      display:flex;\n",
              "      gap: 12px;\n",
              "    }\n",
              "\n",
              "    .colab-df-convert {\n",
              "      background-color: #E8F0FE;\n",
              "      border: none;\n",
              "      border-radius: 50%;\n",
              "      cursor: pointer;\n",
              "      display: none;\n",
              "      fill: #1967D2;\n",
              "      height: 32px;\n",
              "      padding: 0 0 0 0;\n",
              "      width: 32px;\n",
              "    }\n",
              "\n",
              "    .colab-df-convert:hover {\n",
              "      background-color: #E2EBFA;\n",
              "      box-shadow: 0px 1px 2px rgba(60, 64, 67, 0.3), 0px 1px 3px 1px rgba(60, 64, 67, 0.15);\n",
              "      fill: #174EA6;\n",
              "    }\n",
              "\n",
              "    .colab-df-buttons div {\n",
              "      margin-bottom: 4px;\n",
              "    }\n",
              "\n",
              "    [theme=dark] .colab-df-convert {\n",
              "      background-color: #3B4455;\n",
              "      fill: #D2E3FC;\n",
              "    }\n",
              "\n",
              "    [theme=dark] .colab-df-convert:hover {\n",
              "      background-color: #434B5C;\n",
              "      box-shadow: 0px 1px 3px 1px rgba(0, 0, 0, 0.15);\n",
              "      filter: drop-shadow(0px 1px 2px rgba(0, 0, 0, 0.3));\n",
              "      fill: #FFFFFF;\n",
              "    }\n",
              "  </style>\n",
              "\n",
              "    <script>\n",
              "      const buttonEl =\n",
              "        document.querySelector('#df-e6fa0a00-c4a5-48d6-b7b1-bf86b484fee5 button.colab-df-convert');\n",
              "      buttonEl.style.display =\n",
              "        google.colab.kernel.accessAllowed ? 'block' : 'none';\n",
              "\n",
              "      async function convertToInteractive(key) {\n",
              "        const element = document.querySelector('#df-e6fa0a00-c4a5-48d6-b7b1-bf86b484fee5');\n",
              "        const dataTable =\n",
              "          await google.colab.kernel.invokeFunction('convertToInteractive',\n",
              "                                                    [key], {});\n",
              "        if (!dataTable) return;\n",
              "\n",
              "        const docLinkHtml = 'Like what you see? Visit the ' +\n",
              "          '<a target=\"_blank\" href=https://colab.research.google.com/notebooks/data_table.ipynb>data table notebook</a>'\n",
              "          + ' to learn more about interactive tables.';\n",
              "        element.innerHTML = '';\n",
              "        dataTable['output_type'] = 'display_data';\n",
              "        await google.colab.output.renderOutput(dataTable, element);\n",
              "        const docLink = document.createElement('div');\n",
              "        docLink.innerHTML = docLinkHtml;\n",
              "        element.appendChild(docLink);\n",
              "      }\n",
              "    </script>\n",
              "  </div>\n",
              "\n",
              "\n",
              "<div id=\"df-0346ce68-c1c9-471e-b549-83466c799b70\">\n",
              "  <button class=\"colab-df-quickchart\" onclick=\"quickchart('df-0346ce68-c1c9-471e-b549-83466c799b70')\"\n",
              "            title=\"Suggest charts.\"\n",
              "            style=\"display:none;\">\n",
              "\n",
              "<svg xmlns=\"http://www.w3.org/2000/svg\" height=\"24px\"viewBox=\"0 0 24 24\"\n",
              "     width=\"24px\">\n",
              "    <g>\n",
              "        <path d=\"M19 3H5c-1.1 0-2 .9-2 2v14c0 1.1.9 2 2 2h14c1.1 0 2-.9 2-2V5c0-1.1-.9-2-2-2zM9 17H7v-7h2v7zm4 0h-2V7h2v10zm4 0h-2v-4h2v4z\"/>\n",
              "    </g>\n",
              "</svg>\n",
              "  </button>\n",
              "\n",
              "<style>\n",
              "  .colab-df-quickchart {\n",
              "      --bg-color: #E8F0FE;\n",
              "      --fill-color: #1967D2;\n",
              "      --hover-bg-color: #E2EBFA;\n",
              "      --hover-fill-color: #174EA6;\n",
              "      --disabled-fill-color: #AAA;\n",
              "      --disabled-bg-color: #DDD;\n",
              "  }\n",
              "\n",
              "  [theme=dark] .colab-df-quickchart {\n",
              "      --bg-color: #3B4455;\n",
              "      --fill-color: #D2E3FC;\n",
              "      --hover-bg-color: #434B5C;\n",
              "      --hover-fill-color: #FFFFFF;\n",
              "      --disabled-bg-color: #3B4455;\n",
              "      --disabled-fill-color: #666;\n",
              "  }\n",
              "\n",
              "  .colab-df-quickchart {\n",
              "    background-color: var(--bg-color);\n",
              "    border: none;\n",
              "    border-radius: 50%;\n",
              "    cursor: pointer;\n",
              "    display: none;\n",
              "    fill: var(--fill-color);\n",
              "    height: 32px;\n",
              "    padding: 0;\n",
              "    width: 32px;\n",
              "  }\n",
              "\n",
              "  .colab-df-quickchart:hover {\n",
              "    background-color: var(--hover-bg-color);\n",
              "    box-shadow: 0 1px 2px rgba(60, 64, 67, 0.3), 0 1px 3px 1px rgba(60, 64, 67, 0.15);\n",
              "    fill: var(--button-hover-fill-color);\n",
              "  }\n",
              "\n",
              "  .colab-df-quickchart-complete:disabled,\n",
              "  .colab-df-quickchart-complete:disabled:hover {\n",
              "    background-color: var(--disabled-bg-color);\n",
              "    fill: var(--disabled-fill-color);\n",
              "    box-shadow: none;\n",
              "  }\n",
              "\n",
              "  .colab-df-spinner {\n",
              "    border: 2px solid var(--fill-color);\n",
              "    border-color: transparent;\n",
              "    border-bottom-color: var(--fill-color);\n",
              "    animation:\n",
              "      spin 1s steps(1) infinite;\n",
              "  }\n",
              "\n",
              "  @keyframes spin {\n",
              "    0% {\n",
              "      border-color: transparent;\n",
              "      border-bottom-color: var(--fill-color);\n",
              "      border-left-color: var(--fill-color);\n",
              "    }\n",
              "    20% {\n",
              "      border-color: transparent;\n",
              "      border-left-color: var(--fill-color);\n",
              "      border-top-color: var(--fill-color);\n",
              "    }\n",
              "    30% {\n",
              "      border-color: transparent;\n",
              "      border-left-color: var(--fill-color);\n",
              "      border-top-color: var(--fill-color);\n",
              "      border-right-color: var(--fill-color);\n",
              "    }\n",
              "    40% {\n",
              "      border-color: transparent;\n",
              "      border-right-color: var(--fill-color);\n",
              "      border-top-color: var(--fill-color);\n",
              "    }\n",
              "    60% {\n",
              "      border-color: transparent;\n",
              "      border-right-color: var(--fill-color);\n",
              "    }\n",
              "    80% {\n",
              "      border-color: transparent;\n",
              "      border-right-color: var(--fill-color);\n",
              "      border-bottom-color: var(--fill-color);\n",
              "    }\n",
              "    90% {\n",
              "      border-color: transparent;\n",
              "      border-bottom-color: var(--fill-color);\n",
              "    }\n",
              "  }\n",
              "</style>\n",
              "\n",
              "  <script>\n",
              "    async function quickchart(key) {\n",
              "      const quickchartButtonEl =\n",
              "        document.querySelector('#' + key + ' button');\n",
              "      quickchartButtonEl.disabled = true;  // To prevent multiple clicks.\n",
              "      quickchartButtonEl.classList.add('colab-df-spinner');\n",
              "      try {\n",
              "        const charts = await google.colab.kernel.invokeFunction(\n",
              "            'suggestCharts', [key], {});\n",
              "      } catch (error) {\n",
              "        console.error('Error during call to suggestCharts:', error);\n",
              "      }\n",
              "      quickchartButtonEl.classList.remove('colab-df-spinner');\n",
              "      quickchartButtonEl.classList.add('colab-df-quickchart-complete');\n",
              "    }\n",
              "    (() => {\n",
              "      let quickchartButtonEl =\n",
              "        document.querySelector('#df-0346ce68-c1c9-471e-b549-83466c799b70 button');\n",
              "      quickchartButtonEl.style.display =\n",
              "        google.colab.kernel.accessAllowed ? 'block' : 'none';\n",
              "    })();\n",
              "  </script>\n",
              "</div>\n",
              "    </div>\n",
              "  </div>\n"
            ]
          },
          "metadata": {},
          "execution_count": 66
        }
      ]
    },
    {
      "cell_type": "markdown",
      "source": [
        "FINDING NUMBER OF FRAUD AND VALID TRANSACTIONS"
      ],
      "metadata": {
        "id": "4Hq_98ZhSxyG"
      }
    },
    {
      "cell_type": "code",
      "source": [
        "fraud=data[data['Class']==1]\n",
        "valid=data[data['Class']==0]\n",
        "print(f'Number of fraud transaction: {len(fraud)}')\n",
        "print(f'Number of valid transaction: {len(valid)}')"
      ],
      "metadata": {
        "colab": {
          "base_uri": "https://localhost:8080/"
        },
        "id": "ygVVUPC0S3uO",
        "outputId": "aa8e982c-8157-4292-d3ec-8b3f3edc178e"
      },
      "execution_count": null,
      "outputs": [
        {
          "output_type": "stream",
          "name": "stdout",
          "text": [
            "Number of fraud transaction: 73\n",
            "Number of valid transaction: 15862\n"
          ]
        }
      ]
    },
    {
      "cell_type": "markdown",
      "source": [
        "Printing the amount details for Fraudulent Transaction"
      ],
      "metadata": {
        "id": "UjtwO9LCY8zr"
      }
    },
    {
      "cell_type": "code",
      "source": [
        "print(\"Amount details of the fraudulent transaction\")\n",
        "fraud.Amount.describe()"
      ],
      "metadata": {
        "colab": {
          "base_uri": "https://localhost:8080/"
        },
        "id": "igYh8K0DZG5j",
        "outputId": "4c15c358-2967-4221-bc62-70af5bd44258"
      },
      "execution_count": null,
      "outputs": [
        {
          "output_type": "stream",
          "name": "stdout",
          "text": [
            "Amount details of the fraudulent transaction\n"
          ]
        },
        {
          "output_type": "execute_result",
          "data": {
            "text/plain": [
              "count      73.000000\n",
              "mean       90.307123\n",
              "std       271.634360\n",
              "min         0.000000\n",
              "25%         1.000000\n",
              "50%         1.000000\n",
              "75%        99.990000\n",
              "max      1809.680000\n",
              "Name: Amount, dtype: float64"
            ]
          },
          "metadata": {},
          "execution_count": 68
        }
      ]
    },
    {
      "cell_type": "markdown",
      "source": [
        "Print the amount details for Normal Transaction"
      ],
      "metadata": {
        "id": "k8AWFbjNZbAh"
      }
    },
    {
      "cell_type": "code",
      "source": [
        "print(\"Amount details of valid transaction\")\n",
        "valid.Amount.describe()"
      ],
      "metadata": {
        "colab": {
          "base_uri": "https://localhost:8080/"
        },
        "id": "rfhm2swDZc1o",
        "outputId": "accc3611-cdd3-454c-d431-b6db77273c2b"
      },
      "execution_count": null,
      "outputs": [
        {
          "output_type": "stream",
          "name": "stdout",
          "text": [
            "Amount details of valid transaction\n"
          ]
        },
        {
          "output_type": "execute_result",
          "data": {
            "text/plain": [
              "count    15862.000000\n",
              "mean        66.280151\n",
              "std        188.898885\n",
              "min          0.000000\n",
              "25%          5.522500\n",
              "50%         15.950000\n",
              "75%         53.890000\n",
              "max       7712.430000\n",
              "Name: Amount, dtype: float64"
            ]
          },
          "metadata": {},
          "execution_count": 70
        }
      ]
    },
    {
      "cell_type": "markdown",
      "source": [
        "from this one can notice that the average Money transaction for the fraudulent ones is more."
      ],
      "metadata": {
        "id": "yu3wncjTZv_J"
      }
    },
    {
      "cell_type": "markdown",
      "source": [
        "CORRELATION MATRIX"
      ],
      "metadata": {
        "id": "rvhkWY94Vxxf"
      }
    },
    {
      "cell_type": "code",
      "source": [
        "corrmat = data.corr()\n",
        "fig = plt.figure(figsize = (12, 9))\n",
        "sns.heatmap(corrmat, vmax = .8, square = True)\n",
        "plt.show()"
      ],
      "metadata": {
        "colab": {
          "base_uri": "https://localhost:8080/",
          "height": 799
        },
        "id": "_hvclGcPVvR2",
        "outputId": "9d351716-f549-40a4-ea39-be4957ec1973"
      },
      "execution_count": null,
      "outputs": [
        {
          "output_type": "display_data",
          "data": {
            "text/plain": [
              "<Figure size 1200x900 with 2 Axes>"
            ],
            "image/png": "[encoded data removed]"
          },
          "metadata": {}
        }
      ]
    },
    {
      "cell_type": "markdown",
      "source": [
        "SEPARATING X AND Y FOR FURTHER PREPROCESSING"
      ],
      "metadata": {
        "id": "mKipFYQTdMYV"
      }
    },
    {
      "cell_type": "code",
      "source": [
        "x = data.drop(['Class'], axis = 1).values\n",
        "y = data['Class'].values\n",
        "print(x)\n",
        "print(y)"
      ],
      "metadata": {
        "colab": {
          "base_uri": "https://localhost:8080/"
        },
        "id": "38hXoCzeY2pA",
        "outputId": "ed464639-bc28-4415-f40d-329395ac88f3"
      },
      "execution_count": null,
      "outputs": [
        {
          "output_type": "stream",
          "name": "stdout",
          "text": [
            "[[ 0.00000000e+00 -1.35980713e+00 -7.27811733e-02 ...  1.33558377e-01\n",
            "  -2.10530535e-02  1.49620000e+02]\n",
            " [ 0.00000000e+00  1.19185711e+00  2.66150712e-01 ... -8.98309914e-03\n",
            "   1.47241692e-02  2.69000000e+00]\n",
            " [ 1.00000000e+00 -1.35835406e+00 -1.34016307e+00 ... -5.53527940e-02\n",
            "  -5.97518406e-02  3.78660000e+02]\n",
            " ...\n",
            " [ 2.73690000e+04 -6.61806378e-01  3.15384939e-01 ...  6.85463058e-02\n",
            "   1.53437505e-01  7.45800000e+01]\n",
            " [ 2.73700000e+04  1.52534762e+00 -1.23144153e+00 ...  5.89422661e-02\n",
            "   1.10867877e-02  6.00000000e+00]\n",
            " [ 2.73710000e+04  1.38567982e+00 -5.90076304e-01 ...             nan\n",
            "              nan             nan]]\n",
            "[ 0.  0.  0. ...  0.  0. nan]\n"
          ]
        }
      ]
    },
    {
      "cell_type": "markdown",
      "source": [
        "REPLACING NULL VALUES WITH MEAN"
      ],
      "metadata": {
        "id": "igfaA0jFda4l"
      }
    },
    {
      "cell_type": "code",
      "source": [
        "from sklearn.impute import SimpleImputer\n",
        "imputer = SimpleImputer(missing_values=np.nan, strategy='mean')\n",
        "imputer.fit(x[:,:])\n",
        "x[:,:] = imputer.transform(x[:,:])"
      ],
      "metadata": {
        "id": "vLhiAIWjaIlu"
      },
      "execution_count": null,
      "outputs": []
    },
    {
      "cell_type": "code",
      "source": [
        "print(x)"
      ],
      "metadata": {
        "colab": {
          "base_uri": "https://localhost:8080/"
        },
        "id": "PAaYv1VMa_Nd",
        "outputId": "0f620623-5faf-4beb-d4ba-76efc2172f6d"
      },
      "execution_count": null,
      "outputs": [
        {
          "output_type": "stream",
          "name": "stdout",
          "text": [
            "[[ 0.00000000e+00 -1.35980713e+00 -7.27811733e-02 ...  1.33558377e-01\n",
            "  -2.10530535e-02  1.49620000e+02]\n",
            " [ 0.00000000e+00  1.19185711e+00  2.66150712e-01 ... -8.98309914e-03\n",
            "   1.47241692e-02  2.69000000e+00]\n",
            " [ 1.00000000e+00 -1.35835406e+00 -1.34016307e+00 ... -5.53527940e-02\n",
            "  -5.97518406e-02  3.78660000e+02]\n",
            " ...\n",
            " [ 2.73690000e+04 -6.61806378e-01  3.15384939e-01 ...  6.85463058e-02\n",
            "   1.53437505e-01  7.45800000e+01]\n",
            " [ 2.73700000e+04  1.52534762e+00 -1.23144153e+00 ...  5.89422661e-02\n",
            "   1.10867877e-02  6.00000000e+00]\n",
            " [ 2.73710000e+04  1.38567982e+00 -5.90076304e-01 ...  1.54018350e-02\n",
            "   6.16146612e-03  6.63902215e+01]]\n"
          ]
        }
      ]
    },
    {
      "cell_type": "code",
      "source": [
        "print(y)"
      ],
      "metadata": {
        "colab": {
          "base_uri": "https://localhost:8080/"
        },
        "id": "rtrJ9ZnCdqHi",
        "outputId": "0a34e724-0049-442a-dc48-6a0c3915bc5f"
      },
      "execution_count": null,
      "outputs": [
        {
          "output_type": "stream",
          "name": "stdout",
          "text": [
            "[ 0.  0.  0. ...  0.  0. nan]\n"
          ]
        }
      ]
    },
    {
      "cell_type": "code",
      "source": [
        "print(np.isnan(y))"
      ],
      "metadata": {
        "colab": {
          "base_uri": "https://localhost:8080/"
        },
        "id": "70dvIbHPdtIV",
        "outputId": "1fbefbc5-1609-43a4-efbb-738e7e4111cc"
      },
      "execution_count": null,
      "outputs": [
        {
          "output_type": "stream",
          "name": "stdout",
          "text": [
            "[False False False ... False False  True]\n"
          ]
        }
      ]
    },
    {
      "cell_type": "code",
      "source": [
        "y=y.reshape(len(y),1)"
      ],
      "metadata": {
        "id": "bfRENdOTd79v"
      },
      "execution_count": null,
      "outputs": []
    },
    {
      "cell_type": "code",
      "source": [
        "from sklearn.impute import SimpleImputer\n",
        "imputer = SimpleImputer(missing_values=np.nan, strategy='mean')\n",
        "imputer.fit(y)\n",
        "y= imputer.transform(y)"
      ],
      "metadata": {
        "id": "eNYwY4LZdiAG"
      },
      "execution_count": null,
      "outputs": []
    },
    {
      "cell_type": "code",
      "source": [
        "print(np.isnan(y))"
      ],
      "metadata": {
        "colab": {
          "base_uri": "https://localhost:8080/"
        },
        "id": "1max5cE-eDAS",
        "outputId": "369ef751-04c1-44e2-d8c1-1abcba4aad7d"
      },
      "execution_count": null,
      "outputs": [
        {
          "output_type": "stream",
          "name": "stdout",
          "text": [
            "[[False]\n",
            " [False]\n",
            " [False]\n",
            " ...\n",
            " [False]\n",
            " [False]\n",
            " [False]]\n"
          ]
        }
      ]
    },
    {
      "cell_type": "code",
      "source": [
        "y=y.flatten()\n",
        "from sklearn.preprocessing import LabelEncoder\n",
        "le = LabelEncoder()\n",
        "y = le.fit_transform(y)\n",
        "print(y)"
      ],
      "metadata": {
        "colab": {
          "base_uri": "https://localhost:8080/"
        },
        "id": "OjV9jfbXhlOL",
        "outputId": "256a2287-48a5-41d6-ae8c-a12f9fd6053d"
      },
      "execution_count": null,
      "outputs": [
        {
          "output_type": "stream",
          "name": "stdout",
          "text": [
            "[0 0 0 ... 0 0 1]\n"
          ]
        }
      ]
    },
    {
      "cell_type": "markdown",
      "source": [
        "SPLITTING THE DATASET INTO TRAINING AND TEST"
      ],
      "metadata": {
        "id": "qMnWcEVUeKLk"
      }
    },
    {
      "cell_type": "code",
      "source": [
        "from sklearn.model_selection import train_test_split\n",
        "x_train, x_test, y_train, y_test = train_test_split(x, y, test_size = 0.2, random_state = 42)"
      ],
      "metadata": {
        "id": "E1Ospbx4eQ2e"
      },
      "execution_count": null,
      "outputs": []
    },
    {
      "cell_type": "markdown",
      "source": [
        "APPLYING FEATURE SCALING ON X_TRAIN AND X_TEST"
      ],
      "metadata": {
        "id": "zOFGNR86e1vN"
      }
    },
    {
      "cell_type": "code",
      "source": [
        "from sklearn.preprocessing import StandardScaler\n",
        "sc = StandardScaler()\n",
        "x_train = sc.fit_transform(x_train)\n",
        "x_test = sc.transform(x_test)"
      ],
      "metadata": {
        "id": "ZjzJHRvXe7lj"
      },
      "execution_count": null,
      "outputs": []
    },
    {
      "cell_type": "code",
      "source": [
        "print(x_train)"
      ],
      "metadata": {
        "colab": {
          "base_uri": "https://localhost:8080/"
        },
        "id": "rOzrSzqwfne7",
        "outputId": "0fa403f8-a138-427c-c867-bb4d5727bb1f"
      },
      "execution_count": null,
      "outputs": [
        {
          "output_type": "stream",
          "name": "stdout",
          "text": [
            "[[-1.20402397e+00  7.01702519e-01 -4.84391598e-01 ... -2.60514220e-02\n",
            "   1.09129557e-01  3.75366255e-01]\n",
            " [-1.43944544e-01 -6.92757194e-01 -2.67583376e-04 ... -2.66308462e-01\n",
            "   1.98197293e-01  4.17652906e-01]\n",
            " [-3.06298048e-01 -1.37003646e+00  1.24276023e+00 ... -9.30916272e-01\n",
            "  -5.99579582e+00 -3.68822417e-01]\n",
            " ...\n",
            " [-1.27497022e+00 -3.20186897e-01  2.24848140e-01 ...  3.75920433e-01\n",
            "   1.05376234e+00 -3.13060420e-01]\n",
            " [ 1.68086436e+00  6.85875723e-01  3.14675010e-02 ... -1.94151410e-01\n",
            "   3.60937894e-02  2.72468738e-01]\n",
            " [-2.72048130e-01 -7.50205553e-01  8.51174291e-01 ... -2.77995607e+00\n",
            "   4.30636860e-01 -1.99788578e-01]]\n"
          ]
        }
      ]
    },
    {
      "cell_type": "code",
      "source": [
        "print(x_test)"
      ],
      "metadata": {
        "colab": {
          "base_uri": "https://localhost:8080/"
        },
        "id": "NPh7wD9rfuYS",
        "outputId": "7dad7b4f-65af-4d39-f6bc-ebfed73939a5"
      },
      "execution_count": null,
      "outputs": [
        {
          "output_type": "stream",
          "name": "stdout",
          "text": [
            "[[ 0.17242239 -1.52995602  1.59874372 ...  1.07539719  1.90376274\n",
            "  -0.3441834 ]\n",
            " [ 1.41431549 -0.47801295  0.5351391  ...  0.15796498  0.89436818\n",
            "  -0.1997322 ]\n",
            " [-1.20469117 -0.93621179  1.21221012 ...  0.25959341  0.08495627\n",
            "  -0.26744722]\n",
            " ...\n",
            " [-1.07714359 -0.0631586   0.25789064 ...  0.60007069 -0.11112784\n",
            "  -0.36324058]\n",
            " [ 1.01632701 -3.81027471 -7.12164311 ... -0.6983559   1.43578947\n",
            "   0.28521112]\n",
            " [-0.42394874  0.67007636 -0.33862775 ...  0.06057472  0.07269464\n",
            "  -0.04186203]]\n"
          ]
        }
      ]
    },
    {
      "cell_type": "code",
      "source": [
        "print(y_train)"
      ],
      "metadata": {
        "colab": {
          "base_uri": "https://localhost:8080/"
        },
        "id": "8Sx7f98Lg-on",
        "outputId": "8e673294-0a2e-41da-fca5-6a518954b5d8"
      },
      "execution_count": null,
      "outputs": [
        {
          "output_type": "stream",
          "name": "stdout",
          "text": [
            "[0 0 0 ... 0 0 0]\n"
          ]
        }
      ]
    },
    {
      "cell_type": "code",
      "source": [
        "print(y_test)"
      ],
      "metadata": {
        "colab": {
          "base_uri": "https://localhost:8080/"
        },
        "id": "gth4LTsZhIb9",
        "outputId": "c987a3f9-f6d9-4439-90a1-2a59f3e82cc4"
      },
      "execution_count": null,
      "outputs": [
        {
          "output_type": "stream",
          "name": "stdout",
          "text": [
            "[0 0 0 ... 0 0 0]\n"
          ]
        }
      ]
    },
    {
      "cell_type": "markdown",
      "source": [
        "TRAING THE X_TRAIN ON RANDOM FOREST CLASSIFICATION MODEL"
      ],
      "metadata": {
        "id": "QCNuo4A-fxv3"
      }
    },
    {
      "cell_type": "code",
      "source": [
        "from sklearn.ensemble import RandomForestClassifier\n",
        "classifier=RandomForestClassifier()\n",
        "classifier.fit(x_train,y_train)"
      ],
      "metadata": {
        "id": "OxNIyPBOfxS_",
        "colab": {
          "base_uri": "https://localhost:8080/",
          "height": 74
        },
        "outputId": "0cde0ed7-bca0-4cc8-d081-53108ed4df15"
      },
      "execution_count": null,
      "outputs": [
        {
          "output_type": "execute_result",
          "data": {
            "text/plain": [
              "RandomForestClassifier()"
            ],
            "text/html": [
              "<style>#sk-container-id-3 {color: black;background-color: white;}#sk-container-id-3 pre{padding: 0;}#sk-container-id-3 div.sk-toggleable {background-color: white;}#sk-container-id-3 label.sk-toggleable__label {cursor: pointer;display: block;width: 100%;margin-bottom: 0;padding: 0.3em;box-sizing: border-box;text-align: center;}#sk-container-id-3 label.sk-toggleable__label-arrow:before {content: \"▸\";float: left;margin-right: 0.25em;color: #696969;}#sk-container-id-3 label.sk-toggleable__label-arrow:hover:before {color: black;}#sk-container-id-3 div.sk-estimator:hover label.sk-toggleable__label-arrow:before {color: black;}#sk-container-id-3 div.sk-toggleable__content {max-height: 0;max-width: 0;overflow: hidden;text-align: left;background-color: #f0f8ff;}#sk-container-id-3 div.sk-toggleable__content pre {margin: 0.2em;color: black;border-radius: 0.25em;background-color: #f0f8ff;}#sk-container-id-3 input.sk-toggleable__control:checked~div.sk-toggleable__content {max-height: 200px;max-width: 100%;overflow: auto;}#sk-container-id-3 input.sk-toggleable__control:checked~label.sk-toggleable__label-arrow:before {content: \"▾\";}#sk-container-id-3 div.sk-estimator input.sk-toggleable__control:checked~label.sk-toggleable__label {background-color: #d4ebff;}#sk-container-id-3 div.sk-label input.sk-toggleable__control:checked~label.sk-toggleable__label {background-color: #d4ebff;}#sk-container-id-3 input.sk-hidden--visually {border: 0;clip: rect(1px 1px 1px 1px);clip: rect(1px, 1px, 1px, 1px);height: 1px;margin: -1px;overflow: hidden;padding: 0;position: absolute;width: 1px;}#sk-container-id-3 div.sk-estimator {font-family: monospace;background-color: #f0f8ff;border: 1px dotted black;border-radius: 0.25em;box-sizing: border-box;margin-bottom: 0.5em;}#sk-container-id-3 div.sk-estimator:hover {background-color: #d4ebff;}#sk-container-id-3 div.sk-parallel-item::after {content: \"\";width: 100%;border-bottom: 1px solid gray;flex-grow: 1;}#sk-container-id-3 div.sk-label:hover label.sk-toggleable__label {background-color: #d4ebff;}#sk-container-id-3 div.sk-serial::before {content: \"\";position: absolute;border-left: 1px solid gray;box-sizing: border-box;top: 0;bottom: 0;left: 50%;z-index: 0;}#sk-container-id-3 div.sk-serial {display: flex;flex-direction: column;align-items: center;background-color: white;padding-right: 0.2em;padding-left: 0.2em;position: relative;}#sk-container-id-3 div.sk-item {position: relative;z-index: 1;}#sk-container-id-3 div.sk-parallel {display: flex;align-items: stretch;justify-content: center;background-color: white;position: relative;}#sk-container-id-3 div.sk-item::before, #sk-container-id-3 div.sk-parallel-item::before {content: \"\";position: absolute;border-left: 1px solid gray;box-sizing: border-box;top: 0;bottom: 0;left: 50%;z-index: -1;}#sk-container-id-3 div.sk-parallel-item {display: flex;flex-direction: column;z-index: 1;position: relative;background-color: white;}#sk-container-id-3 div.sk-parallel-item:first-child::after {align-self: flex-end;width: 50%;}#sk-container-id-3 div.sk-parallel-item:last-child::after {align-self: flex-start;width: 50%;}#sk-container-id-3 div.sk-parallel-item:only-child::after {width: 0;}#sk-container-id-3 div.sk-dashed-wrapped {border: 1px dashed gray;margin: 0 0.4em 0.5em 0.4em;box-sizing: border-box;padding-bottom: 0.4em;background-color: white;}#sk-container-id-3 div.sk-label label {font-family: monospace;font-weight: bold;display: inline-block;line-height: 1.2em;}#sk-container-id-3 div.sk-label-container {text-align: center;}#sk-container-id-3 div.sk-container {/* jupyter's `normalize.less` sets `[hidden] { display: none; }` but bootstrap.min.css set `[hidden] { display: none !important; }` so we also need the `!important` here to be able to override the default hidden behavior on the sphinx rendered scikit-learn.org. See: https://github.com/scikit-learn/scikit-learn/issues/21755 */display: inline-block !important;position: relative;}#sk-container-id-3 div.sk-text-repr-fallback {display: none;}</style><div id=\"sk-container-id-3\" class=\"sk-top-container\"><div class=\"sk-text-repr-fallback\"><pre>RandomForestClassifier()</pre><b>In a Jupyter environment, please rerun this cell to show the HTML representation or trust the notebook. <br />On GitHub, the HTML representation is unable to render, please try loading this page with nbviewer.org.</b></div><div class=\"sk-container\" hidden><div class=\"sk-item\"><div class=\"sk-estimator sk-toggleable\"><input class=\"sk-toggleable__control sk-hidden--visually\" id=\"sk-estimator-id-3\" type=\"checkbox\" checked><label for=\"sk-estimator-id-3\" class=\"sk-toggleable__label sk-toggleable__label-arrow\">RandomForestClassifier</label><div class=\"sk-toggleable__content\"><pre>RandomForestClassifier()</pre></div></div></div></div></div>"
            ]
          },
          "metadata": {},
          "execution_count": 87
        }
      ]
    },
    {
      "cell_type": "code",
      "source": [
        "y_pred = classifier.predict(x_test)\n",
        "print(np.concatenate((y_pred.reshape(len(y_pred),1), y_test.reshape(len(y_test),1)),1))"
      ],
      "metadata": {
        "id": "W2jxvTftis3t",
        "colab": {
          "base_uri": "https://localhost:8080/"
        },
        "outputId": "d0c8a460-ab6e-4be0-c6be-199f3f98e249"
      },
      "execution_count": null,
      "outputs": [
        {
          "output_type": "stream",
          "name": "stdout",
          "text": [
            "[[0 0]\n",
            " [0 0]\n",
            " [0 0]\n",
            " ...\n",
            " [0 0]\n",
            " [0 0]\n",
            " [0 0]]\n"
          ]
        }
      ]
    },
    {
      "cell_type": "markdown",
      "source": [
        "seeing result with confudinon matrix and checking accuracy"
      ],
      "metadata": {
        "id": "MGHoHGevjSXd"
      }
    },
    {
      "cell_type": "code",
      "source": [
        "from sklearn.metrics import confusion_matrix, accuracy_score\n",
        "cm = confusion_matrix(y_test, y_pred)\n",
        "print(cm)\n",
        "acc_score=accuracy_score(y_test, y_pred)\n",
        "print(f\"Accuracy_score={acc_score}\")"
      ],
      "metadata": {
        "id": "YLx9qRayjdIN",
        "colab": {
          "base_uri": "https://localhost:8080/"
        },
        "outputId": "ac6d2d95-40e2-4d1e-894b-d3580d96d994"
      },
      "execution_count": null,
      "outputs": [
        {
          "output_type": "stream",
          "name": "stdout",
          "text": [
            "[[3170    0]\n",
            " [   1   17]]\n",
            "Accuracy_score=0.9996863237139272\n"
          ]
        }
      ]
    }
  ]
}